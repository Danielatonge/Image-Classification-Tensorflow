{
 "cells": [
  {
   "cell_type": "markdown",
   "metadata": {},
   "source": [
    "# Convolutional Neural Network for MNIST classification\n",
    "\n",
    "Dataset: http://yann.lecun.com/exdb/mnist/\n",
    "\n",
    "![alt text](http://rodrigob.github.io/are_we_there_yet/build/images/mnist.png?1363085077 \"MNIST Dataset Example\")\n",
    "\n",
    "Convolutional Networks work by moving small filters across the input image. This means the filters are re-used for recognizing patterns throughout the entire input image. This makes the Convolutional Networks much more powerful than Fully-Connected networks with the same number of variables. This in turn makes the Convolutional Networks faster to train.\n",
    "\n",
    "### A Filter is a matrix of number. This is what it looks like:\n",
    "![alt text](https://adeshpande3.github.io/assets/Filter.png \"CNN Filter\")\n",
    "\n",
    "### The following diagrams shows roughly how the data flows in a CNN\n",
    "![alt text](CNNDiagram.JPG \"MNIST Dataset Example\")\n",
    "\n",
    "The input image is processed in the first convolutional layer using the filter-weights. This results in 16 new images, one for each filter in the convolutional layer. The images are also down-sampled so the image resolution is decreased from 28x28 to 14x14.\n",
    "\n",
    "These 16 smaller images are then processed in the second convolutional layer. We need filter-weights for each of these 16 channels, and we need filter-weights for each output channel of this layer. There are 36 output channels so there are a total of 16 x 36 = 576 filters in the second convolutional layer. The resulting images are down-sampled again to 7x7 pixels.\n",
    "\n",
    "The output of the second convolutional layer is 36 images of 7x7 pixels each. These are then flattened to a single vector of length 7 x 7 x 36 = 1764, which is used as the input to a fully-connected layer with 128 neurons (or elements). This feeds into another fully-connected layer with 10 neurons, one for each of the classes, which is used to determine the class of the image, that is, which number is depicted in the image.\n",
    "\n",
    "The convolutional filters are initially chosen at random, so the classification is done randomly. The error between the predicted and true class of the input image is measured as the so-called cross-entropy. The optimizer then automatically propagates this error back through the Convolutional Network using the chain-rule of differentiation and updates the filter-weights so as to improve the classification error. This is done iteratively thousands of times until the classification error is sufficiently low."
   ]
  },
  {
   "cell_type": "code",
   "execution_count": 141,
   "metadata": {},
   "outputs": [],
   "source": [
    "%matplotlib inline\n",
    "import matplotlib.pyplot as plt\n",
    "import tensorflow as tf\n",
    "import numpy as np\n",
    "from sklearn.metrics import confusion_matrix\n",
    "import time\n",
    "from datetime import timedelta\n",
    "import math"
   ]
  },
  {
   "cell_type": "markdown",
   "metadata": {},
   "source": [
    "# Configuration of Neural Network\n",
    "When dealing with inputs such as images, it is impractical to connect neurons to all neurons in the previous volume. Instead, we will connect each neuron to only a local region of the input volume. The spatial extent of this connectivity is a hyperparameter called receptive field of the neuron (equivalent to the filter size). "
   ]
  },
  {
   "cell_type": "code",
   "execution_count": 142,
   "metadata": {},
   "outputs": [],
   "source": [
    "#Convolution layer 1\n",
    "filter_size1 = 5          # Convolution filters are 5 x 5 pixels.\n",
    "num_filters1 = 16         # There are 16 of these filters.\n",
    "\n",
    "# Convolutional Layer 2.\n",
    "filter_size2 = 5          # Convolution filters are 5 x 5 pixels.\n",
    "num_filters2 = 36         # There are 36 of these filters.\n",
    "\n",
    "# Fully-connected layer.\n",
    "fc_size = 128             # Number of neurons in fully-connected layer."
   ]
  },
  {
   "cell_type": "code",
   "execution_count": 143,
   "metadata": {},
   "outputs": [
    {
     "name": "stdout",
     "output_type": "stream",
     "text": [
      "Extracting data/MNIST/train-images-idx3-ubyte.gz\n",
      "Extracting data/MNIST/train-labels-idx1-ubyte.gz\n",
      "Extracting data/MNIST/t10k-images-idx3-ubyte.gz\n",
      "Extracting data/MNIST/t10k-labels-idx1-ubyte.gz\n"
     ]
    }
   ],
   "source": [
    "from tensorflow.examples.tutorials.mnist import input_data\n",
    "data = input_data.read_data_sets('data/MNIST/', one_hot=True)"
   ]
  },
  {
   "cell_type": "markdown",
   "metadata": {},
   "source": [
    "The MNIST data-set has now been loaded and consists of 70,000 images and associated labels (i.e. classifications of the images). The data-set is split into 3 mutually exclusive sub-sets. We will only use the training and test-sets in this tutorial."
   ]
  },
  {
   "cell_type": "code",
   "execution_count": 144,
   "metadata": {},
   "outputs": [
    {
     "name": "stdout",
     "output_type": "stream",
     "text": [
      "Size of:\n",
      "- Training-set:\t\t55000\n",
      "- Test-set:\t\t10000\n",
      "- Validation-set:\t5000\n"
     ]
    }
   ],
   "source": [
    "print(\"Size of:\")\n",
    "print(\"- Training-set:\\t\\t{}\".format(len(data.train.labels)))\n",
    "print(\"- Test-set:\\t\\t{}\".format(len(data.test.labels)))\n",
    "print(\"- Validation-set:\\t{}\".format(len(data.validation.labels)))"
   ]
  },
  {
   "cell_type": "markdown",
   "metadata": {},
   "source": [
    "The class-labels are One-Hot encoded, which means that each label is a vector with 10 elements, all of which are zero except for one element. The index of this one element is the class-number, that is, the digit shown in the associated image. We also need the class-numbers as integers for the test-set, so we calculate it now."
   ]
  },
  {
   "cell_type": "code",
   "execution_count": 145,
   "metadata": {},
   "outputs": [],
   "source": [
    "data.test.cls = np.argmax(data.test.labels, axis=1)"
   ]
  },
  {
   "cell_type": "markdown",
   "metadata": {},
   "source": [
    "# Defining Data Dimensions\n",
    "\n",
    "We use these data dimensions in several places in the code below. We'll define them here so that we can use the variables in the code rather than numbers."
   ]
  },
  {
   "cell_type": "code",
   "execution_count": 146,
   "metadata": {},
   "outputs": [],
   "source": [
    "# MNIST images are 28 pixels in each dimension\n",
    "img_size = 28\n",
    "\n",
    "# Images are stored in one dimensional arrays of this length\n",
    "img_size_flat = img_size * img_size\n",
    "\n",
    "# Tuple with height and width of images used to reshape arrays\n",
    "img_shape = (img_size, img_size)\n",
    "\n",
    "# Number of colour channels for the images: 1 channel since the MNIST dataset is grey-scale\n",
    "# Channels mean the number of primary colours. If this were a coloured dataset, we'd have 3 channels (RGB)\n",
    "num_channels = 1\n",
    "\n",
    "# Number of classes. Since there are 10 digits, then there are 10 classes\n",
    "num_classes = 10"
   ]
  },
  {
   "cell_type": "markdown",
   "metadata": {},
   "source": [
    "### Plotting thee images\n",
    "In order to plot the images, we will use a 3x3 grid. We will write the true and predicted classes below each image."
   ]
  },
  {
   "cell_type": "code",
   "execution_count": 147,
   "metadata": {},
   "outputs": [],
   "source": [
    "def plot_images(images, cls_true, cls_pred=None):\n",
    "    assert len(images) == len(cls_true) == 9\n",
    "    \n",
    "    # Create figure with 3x3 sub-plots\n",
    "    fig, axes = plt.subplots(3, 3)\n",
    "    fig.subplots_adjust(hspace=0.3, wspace=0.3)\n",
    "    \n",
    "    for i, ax in enumerate(axes.flat):\n",
    "        # Plot image\n",
    "        ax.imshow(images[i].reshape(img_shape), cmap='binary')\n",
    "        \n",
    "        # Show true and predicted classes\n",
    "        if cls_pred is None:\n",
    "            xlabel = \"True: {0}\".format(cls_true[i])\n",
    "        else:\n",
    "            xlabel = \"True: {0}, Pred: {1}\".format(cls_true[i], cls_pred[i])\n",
    "        \n",
    "        # Show the classes as the label on the axis\n",
    "        ax.set_xlabel(xlabel)\n",
    "        \n",
    "        # Remove the ticks from the plots\n",
    "        ax.set_xticks([])\n",
    "        ax.set_yticks([])\n",
    "    \n",
    "    # Show the plot\n",
    "    plt.show()"
   ]
  },
  {
   "cell_type": "markdown",
   "metadata": {},
   "source": [
    "### Plot some images to test the function"
   ]
  },
  {
   "cell_type": "code",
   "execution_count": 148,
   "metadata": {},
   "outputs": [
    {
     "data": {
      "image/png": "[encoded data removed]",
      "text/plain": [
       "<Figure size 432x288 with 9 Axes>"
      ]
     },
     "metadata": {},
     "output_type": "display_data"
    }
   ],
   "source": [
    "# Get the first images from the test-set\n",
    "images = data.test.images[0:9]\n",
    "\n",
    "# Get the true classes for those images\n",
    "cls_true = data.test.cls[0:9]\n",
    "\n",
    "# Plot the images and labels using our plot_images function\n",
    "plot_images(images=images, cls_true=cls_true)"
   ]
  },
  {
   "cell_type": "markdown",
   "metadata": {},
   "source": [
    "### Tensorflow is much more efficient than numpy because of its ability to run computations in parallel\n",
    "\n",
    "Tensorflow is more efficient because it knows the entire computation graph that must be executed, while NumPy only knows the computation of a single mathematical operation at a time.\n",
    "\n",
    "Tensorflow can also automatically calculate the gradients that are needed to optimize the variables of the graph so as to make the model perform better. This is because the graph is a combination of simple mathematical expressions so the gradient of the entire graph can be calculated using the chain-rule for derivatives.\n",
    "\n",
    "A Tensorflow graph consists of the following parts:\n",
    "- Placeholder variables used for inputting data to the graph\n",
    "- Variables that are going to be optimized so as to make the convolutional network perform better\n",
    "- The mathematical formulas for the convolutional network\n",
    "- A cost measure that can be used to guide the optimization of the variables\n",
    "- An optimization method which updates the variables"
   ]
  },
  {
   "cell_type": "markdown",
   "metadata": {},
   "source": [
    "# Helper Functions"
   ]
  },
  {
   "cell_type": "markdown",
   "metadata": {},
   "source": [
    "### HF's for creating new variables\n",
    "Functions for creating new Tensorflow variables in the given shape and initializing them with random values. Note that the initialization is not actually done at this point, it is merely being defined in the Tensorflow graph."
   ]
  },
  {
   "cell_type": "code",
   "execution_count": 149,
   "metadata": {},
   "outputs": [],
   "source": [
    "def new_weights(shape):\n",
    "    return tf.Variable(tf.truncated_normal(shape, stddev=0.05))"
   ]
  },
  {
   "cell_type": "code",
   "execution_count": 150,
   "metadata": {},
   "outputs": [],
   "source": [
    "def new_biases(length):\n",
    "    # equivalent to the y-intercept in y = mx + b\n",
    "    # constant value carried over across matrix math\n",
    "    return tf.Variable(tf.constant(0.05, shape=[length]))"
   ]
  },
  {
   "cell_type": "markdown",
   "metadata": {},
   "source": [
    "### Helper-function for creating a new Convolutional Layer\n",
    "\n",
    "This HP will create a new convolutional layer in the computation graph for Tensorflow. We aren't doing any calculations here, we are only adding the mathematical functions to the Tensorflow graph.\n",
    "\n",
    "We are going to assume that the input is a 4-dimension tensor with the following dimensions:\n",
    "1. Image number\n",
    "2. Y-axis \n",
    "3. X-axis\n",
    "4. Channels\n",
    "\n",
    "Remember that the input channels may either be colour-channels, OR it may be filter-channels if the input is produced from a previous convolutional layer.\n",
    "\n",
    "The output is another 4-dimension tensor with the following dimensions:\n",
    "1. Image number, same as input\n",
    "2. Y-axis. If 2x2 pooling is used, then the height and width of the input images is divided by 2\n",
    "3. X-axis. Same as above\n",
    "4. Channels produced by the convolutional filters"
   ]
  },
  {
   "cell_type": "code",
   "execution_count": 151,
   "metadata": {},
   "outputs": [],
   "source": [
    "def new_conv_layer(input,              # The previous layer\n",
    "                  num_input_channels,  # Num. channels in prev. layer\n",
    "                  filter_size,         # Width and height of each filter\n",
    "                  num_filters,         # Number of filters\n",
    "                  use_pooling=True):   # Use 2x2 max-pooling\n",
    "    \n",
    "    # Shape of the filter-weidhts for the convolution\n",
    "    # This format is determined by the Tensorflow API\n",
    "    shape = [filter_size, filter_size, num_input_channels, num_filters]\n",
    "    \n",
    "    # Create new weights aka. filters with the given shape\n",
    "    weights = new_weights(shape=shape)\n",
    "    \n",
    "    # Create new biases, one for each filter\n",
    "    biases = new_biases(length=num_filters)\n",
    "    \n",
    "    # Create the Tensorflow operation for convolution. \n",
    "    # Note that the strides are set to 1 in all dimensions.\n",
    "    # The first and last stride must always be 1, because\n",
    "    # the first is for the image-number and the last is for \n",
    "    # the input-channel.\n",
    "    # But e.g. strides=[1,2,2,1] would mean that the filter is \n",
    "    # moved 2 pixels across the x and y-axis of the image.\n",
    "    # The padding is set to 'SAME', which means the input image\n",
    "    # is padded with zeroes so the size of the output is the same.\n",
    "    layer = tf.nn.conv2d(input=input,\n",
    "                        filter=weights,\n",
    "                        strides=[1, 1, 1, 1],\n",
    "                        padding='SAME')\n",
    "    \n",
    "    # Add the biases to the results of the convolution.\n",
    "    # A bias-value is added to each filter-channel.\n",
    "    layer += biases\n",
    "    \n",
    "    # Use pooling to down-sample the image resolution\n",
    "    if use_pooling:\n",
    "        # This is 2x2 max-pooling, which means that we consider\n",
    "        # 2x2 windows and select the largest value in each window.\n",
    "        # Then we move 2 pixels to the next window.\n",
    "        layer = tf.nn.max_pool(value=layer,\n",
    "                              ksize=[1,2,2,1],\n",
    "                              strides=[1,2,2,1],\n",
    "                              padding='SAME')\n",
    "    \n",
    "    # Rectified Linear Unit (ReLU)\n",
    "    # It calculates the max(x, 0) for each input pixel x.\n",
    "    # This adds some non-linearity to the formula and allows us\n",
    "    # to learn more complicated functions.\n",
    "    layer = tf.nn.relu(layer)\n",
    "    \n",
    "    # Note: ReLU is normally executed before the pooling, but since\n",
    "    # relu(max_pool(x)) == max_pool(relu(x)), we can save 75% of the \n",
    "    # relu operations by max-pooling first\n",
    "    \n",
    "    # We return both the resulting layer and the filter-weights \n",
    "    # because we will plot the weights later\n",
    "    return layer, weights"
   ]
  },
  {
   "cell_type": "markdown",
   "metadata": {},
   "source": [
    "### Helper-function for flattening a layer\n",
    "\n",
    "A convolutional layer produced an output tensor with 4-dimensions. We will add fully-connected layers after the convolution layer, so we need to reduce the 4-dimension tensor to 2-dimension. The 2-dimension tensor can be used as input to the fully-connected layer. \n",
    "![alt text](https://www.superdatascience.com/wp-content/uploads/2018/08/CNN_Step3_Img1.png \"Flattening a layer\")\n"
   ]
  },
  {
   "cell_type": "code",
   "execution_count": 152,
   "metadata": {},
   "outputs": [],
   "source": [
    "def flatten_layer(layer):\n",
    "    # Get the shape of the input layer\n",
    "    layer_shape = layer.get_shape()\n",
    "    \n",
    "    # The shape of the input layer is assumed to be:\n",
    "    # layer_shape == [num_images, img_height, img_width, num_channels]\n",
    "    \n",
    "    # The number of features is: img_height * img_width * num_channels\n",
    "    # We can use a function from Tensorflow to calculate this\n",
    "    num_features = layer_shape[1:4].num_elements()\n",
    "    \n",
    "    # Reshape the layer to [num_images, num_features]\n",
    "    # Note: We just set the size of the second dimension to\n",
    "    # num_features and the size of the first dimension to -1,\n",
    "    # which means the size in that dimension is calculated so that \n",
    "    # the total size of the tensor is unchanged from the reshaping.\n",
    "    layer_flat = tf.reshape(layer, [-1, num_features])\n",
    "    \n",
    "    # The shape of the flattened layer is now:\n",
    "    # [num_images, img_height * img_width * num_channels]\n",
    "    \n",
    "    # Return both the flattened layer and the number of features\n",
    "    return layer_flat, num_features"
   ]
  },
  {
   "cell_type": "markdown",
   "metadata": {},
   "source": [
    "### Helper-function for creating a Fully-Connected Layer\n",
    "\n",
    "This HP will create a new full-connected layer in the computational graph for Tensorflow. We are not doing any calculations here, we are just adfing the mathematical formulas to the Tensorflow graph.\n",
    "\n",
    "It is assumed that the input is a 2-dimension tensor of shape [num_images, num_inputs]. The output is a 2-dimension tensor of a shape [num_images, num_outputs]"
   ]
  },
  {
   "cell_type": "code",
   "execution_count": 153,
   "metadata": {},
   "outputs": [],
   "source": [
    "def new_fc_layer(input,            # The previous layer\n",
    "                num_inputs,        # Num. inputs from the prev. layer\n",
    "                num_outputs,       # Num. outputs\n",
    "                use_relu=True):    # Use Rectified Linear Unit (ReLU)?\n",
    "    \n",
    "    # Create new weights and biases\n",
    "    weights = new_weights(shape=[num_inputs, num_outputs])\n",
    "    biases = new_biases(length=num_outputs)\n",
    "    \n",
    "    # Calculate the layer as the matrix multiplication of the\n",
    "    # input and weidhts, and then add the bias-values\n",
    "    layer = tf.matmul(input, weights) + biases\n",
    "    \n",
    "    # Use ReLU?\n",
    "    if use_relu:\n",
    "        layer = tf.nn.relu(layer)\n",
    "    \n",
    "    return layer"
   ]
  },
  {
   "cell_type": "markdown",
   "metadata": {},
   "source": [
    "### Placeholder variables\n",
    "\n",
    "Placeholder variables serve as the input to the Tensorflow computational graph that we may change each tiem we execute the graph. We call this feeding the placeholder variables and it is demonstrated below.\n",
    "\n",
    "First, we define the placeholder variables for the input images. This allows us to change the images that are input to the Tensorflow graph. This is a so-called tensor, which just means that it is a multi-dimensional vector or matrix. The data-type is set to float32 and the shape is set to [None, img_size__flat], wehre None means that the tensor may hold an arbitrary number of images with each image being a vector_size_flat."
   ]
  },
  {
   "cell_type": "code",
   "execution_count": 154,
   "metadata": {},
   "outputs": [],
   "source": [
    "x = tf.placeholder(tf.float32, shape=[None, img_size_flat], name='x')"
   ]
  },
  {
   "cell_type": "markdown",
   "metadata": {},
   "source": [
    "The convolutional layers expect x to be encoded as a 4-dimension tensor, so we have to reshape it so that its shape is instead [num_images, img_height, img_width, num_channels]. Not that img_height == img_width == img_size and num_images can be inferred automatically by using -1 for the size of the first dimension. So, the reshape operation is:"
   ]
  },
  {
   "cell_type": "code",
   "execution_count": 155,
   "metadata": {},
   "outputs": [],
   "source": [
    "x_image = tf.reshape(x, [-1, img_size, img_size, num_channels])"
   ]
  },
  {
   "cell_type": "markdown",
   "metadata": {},
   "source": [
    "Next, we have the placeholder variable for the true labels associated with the images that were input into the placeholder variable x. The shape of this placeholder variable is [None, num_classes], which means it may hold an arbitrary number of labels and each label is a vector of length num_classes which is 10 in this case."
   ]
  },
  {
   "cell_type": "code",
   "execution_count": 156,
   "metadata": {},
   "outputs": [],
   "source": [
    "y_true = tf.placeholder(tf.float32, shape=[None, 10], name='y_true')"
   ]
  },
  {
   "cell_type": "markdown",
   "metadata": {},
   "source": [
    "We can also have a placeholder variable for the class-number, but we will instead calculate it using argmax. \n",
    "Note: this is a Tensorflow operation, so nothing is actually calculated at this point."
   ]
  },
  {
   "cell_type": "code",
   "execution_count": 157,
   "metadata": {},
   "outputs": [],
   "source": [
    "y_true_cls = tf.argmax(y_true, axis=1)"
   ]
  },
  {
   "cell_type": "markdown",
   "metadata": {},
   "source": [
    "# Convolutional Layer 1\n",
    "\n",
    "The first convolution layer takes x_image as input and created num_filters1 different filters, each having width and height equal to filter_size1. Finally, we wish to down-sample the iamge so it is half the size by using 2x2 max-pooling."
   ]
  },
  {
   "cell_type": "code",
   "execution_count": 158,
   "metadata": {},
   "outputs": [],
   "source": [
    "layer_conv1, weights_conv1 = \\\n",
    "    new_conv_layer(input=x_image,\n",
    "                   num_input_channels=num_channels,\n",
    "                   filter_size=filter_size1,\n",
    "                   num_filters=num_filters1,\n",
    "                   use_pooling=True)"
   ]
  },
  {
   "cell_type": "markdown",
   "metadata": {},
   "source": [
    "Check the shape of the tensor that will be output by the convolutional layer. It is (?, 14, 14, 16), which means that there is an arbitrary number of images (that is the ?), each image is 14 pixels wde and 14 pixels high, and there are 16 different channels, one channgel for each of the filters."
   ]
  },
  {
   "cell_type": "code",
   "execution_count": 159,
   "metadata": {},
   "outputs": [
    {
     "data": {
      "text/plain": [
       "<tf.Tensor 'Relu_6:0' shape=(?, 14, 14, 16) dtype=float32>"
      ]
     },
     "execution_count": 159,
     "metadata": {},
     "output_type": "execute_result"
    }
   ],
   "source": [
    "layer_conv1"
   ]
  },
  {
   "cell_type": "markdown",
   "metadata": {},
   "source": [
    "# Convolutional Layer 2\n",
    "The second convolutional layer, which takes as input the output from the first convolutional layer. The number of input channels corresponds to the number of filters in the first convolutional layer."
   ]
  },
  {
   "cell_type": "code",
   "execution_count": 160,
   "metadata": {},
   "outputs": [],
   "source": [
    "layer_conv2, weights_conv2 = \\\n",
    "    new_conv_layer(input=layer_conv1,\n",
    "                   num_input_channels=num_filters1,\n",
    "                   filter_size=filter_size2,\n",
    "                   num_filters=num_filters2,\n",
    "                   use_pooling=True)"
   ]
  },
  {
   "cell_type": "markdown",
   "metadata": {},
   "source": [
    "Check the shape of the tensor that will be output from this convolutional layer. The shape is (?, 7, 7, 36) where the ? again means that there are an arbitrary number of images, with each image hacving width and height of 7 pixels, and there are 36 channels, one for each filter."
   ]
  },
  {
   "cell_type": "code",
   "execution_count": 161,
   "metadata": {},
   "outputs": [
    {
     "data": {
      "text/plain": [
       "<tf.Tensor 'Relu_7:0' shape=(?, 7, 7, 36) dtype=float32>"
      ]
     },
     "execution_count": 161,
     "metadata": {},
     "output_type": "execute_result"
    }
   ],
   "source": [
    "layer_conv2"
   ]
  },
  {
   "cell_type": "markdown",
   "metadata": {},
   "source": [
    "# Flatten the layer\n",
    "The convolutional layers output 4-dimension tensors. Before we use these as inputs in a fully-connected network, we must reshape or flatten the tensors to 2-dimensional tensors."
   ]
  },
  {
   "cell_type": "code",
   "execution_count": 162,
   "metadata": {},
   "outputs": [],
   "source": [
    "layer_flat, num_features = flatten_layer(layer_conv2)"
   ]
  },
  {
   "cell_type": "markdown",
   "metadata": {},
   "source": [
    "The shape of the tensors is now (?, 1764), which means there is an arbitrary number of images which have been flattened to vectors of length 1764 each. Note that 1764 = 7 x 7 x 36"
   ]
  },
  {
   "cell_type": "code",
   "execution_count": 163,
   "metadata": {},
   "outputs": [
    {
     "data": {
      "text/plain": [
       "<tf.Tensor 'Reshape_5:0' shape=(?, 1764) dtype=float32>"
      ]
     },
     "execution_count": 163,
     "metadata": {},
     "output_type": "execute_result"
    }
   ],
   "source": [
    "layer_flat"
   ]
  },
  {
   "cell_type": "code",
   "execution_count": 164,
   "metadata": {},
   "outputs": [
    {
     "data": {
      "text/plain": [
       "1764"
      ]
     },
     "execution_count": 164,
     "metadata": {},
     "output_type": "execute_result"
    }
   ],
   "source": [
    "num_features"
   ]
  },
  {
   "cell_type": "markdown",
   "metadata": {},
   "source": [
    "# Fully-Connected Layer 1\n",
    "\n",
    "Add a fully-connected layer to the network. The input is the flattened layer from the previous convolution. The number of neurons or nodes in the fully-connected layer is fc_size. ReLU is used so we can learn non-linear relations. "
   ]
  },
  {
   "cell_type": "code",
   "execution_count": 165,
   "metadata": {},
   "outputs": [],
   "source": [
    "layer_fc1 = new_fc_layer(input=layer_flat,\n",
    "                         num_inputs=num_features,\n",
    "                         num_outputs=fc_size,\n",
    "                         use_relu=True)"
   ]
  },
  {
   "cell_type": "markdown",
   "metadata": {},
   "source": [
    "Check that the output of the fully-connected layer is a tensor with shape (?, 128), where the ? means there is an arbitrary number of images and fc_size == 128"
   ]
  },
  {
   "cell_type": "code",
   "execution_count": 166,
   "metadata": {},
   "outputs": [
    {
     "data": {
      "text/plain": [
       "<tf.Tensor 'Relu_8:0' shape=(?, 128) dtype=float32>"
      ]
     },
     "execution_count": 166,
     "metadata": {},
     "output_type": "execute_result"
    }
   ],
   "source": [
    "layer_fc1"
   ]
  },
  {
   "cell_type": "markdown",
   "metadata": {},
   "source": [
    "# Fully-Connected Layer 2\n",
    "Add another fully-connected layer that outputs vectors of length 10 for determining which of the 10 classes the input image belongs to. Note that ReLU is not used in this layer."
   ]
  },
  {
   "cell_type": "code",
   "execution_count": 167,
   "metadata": {},
   "outputs": [],
   "source": [
    "layer_fc2 = new_fc_layer(input=layer_fc1,\n",
    "                         num_inputs=fc_size,\n",
    "                         num_outputs=num_classes,\n",
    "                         use_relu=False)"
   ]
  },
  {
   "cell_type": "code",
   "execution_count": 168,
   "metadata": {},
   "outputs": [
    {
     "data": {
      "text/plain": [
       "<tf.Tensor 'add_11:0' shape=(?, 10) dtype=float32>"
      ]
     },
     "execution_count": 168,
     "metadata": {},
     "output_type": "execute_result"
    }
   ],
   "source": [
    "layer_fc2"
   ]
  },
  {
   "cell_type": "markdown",
   "metadata": {},
   "source": [
    "# Predicted Class\n",
    "\n",
    "The second fully-connected layer estimates how likely it is that the input image belongs to each of the 10 classes. However, these estimates are a bit rough and difficult to interpret because the numbers may be very small or large, we so want to normalize them so that each element is limited between zero and one and the 10 elements sum to one. This is calculated using the so-called softmnax function and the result is stores in y_pred."
   ]
  },
  {
   "cell_type": "code",
   "execution_count": 169,
   "metadata": {},
   "outputs": [],
   "source": [
    "y_pred = tf.nn.softmax(layer_fc2)"
   ]
  },
  {
   "cell_type": "markdown",
   "metadata": {},
   "source": [
    "The class-number is the index of the largest element"
   ]
  },
  {
   "cell_type": "code",
   "execution_count": 170,
   "metadata": {},
   "outputs": [],
   "source": [
    "y_pred_cls = tf.argmax(y_pred, axis=1)"
   ]
  },
  {
   "cell_type": "markdown",
   "metadata": {},
   "source": [
    "# Cost-function to be optimized\n",
    "\n",
    "To make the model better at classifying the input images, we must somehow change the variables for all the network layers. In order to do this, we ned to know how well the model currently performs by comparing the predicted output of the model y_pred to the desired output y_true.\n",
    "\n",
    "### Cross-entropy\n",
    "Cross-entropy is a performance measure used in classification. The cross-entropy is a continuous function that is always positive and if the predicted output of the model exactly matches the desired output, then the cross-entropy equals zero. The goal of the optimization is therefore to minimize the cross-entropy, so it gets as close to zero as possible by changing the variables of the network layers.\n",
    "\n",
    "Tensorflow has a built-in function for calculating the cross-entropy. Note that the function calculates softmax internally, so we must use the output of layer_fc2 directly, rather than y_pred which has already had softmax applied"
   ]
  },
  {
   "cell_type": "code",
   "execution_count": 171,
   "metadata": {},
   "outputs": [],
   "source": [
    "cross_entropy = tf.nn.softmax_cross_entropy_with_logits_v2(logits=layer_fc2,\n",
    "                                                       labels=y_true)"
   ]
  },
  {
   "cell_type": "markdown",
   "metadata": {},
   "source": [
    "We have now calculated the cross-entropy for ech of the image classifications, so, we have a measure of how ell the model performs on each image individually. In order to use the cross-entropy to guide the optimization of the model's variables, we need a single scalar value, so we take the average of the cross-entropyfor all the image classifications."
   ]
  },
  {
   "cell_type": "code",
   "execution_count": 172,
   "metadata": {},
   "outputs": [],
   "source": [
    "cost = tf.reduce_mean(cross_entropy)"
   ]
  },
  {
   "cell_type": "markdown",
   "metadata": {},
   "source": [
    "# Optimization Method\n",
    "\n",
    "We have the cost measure that must be measured. We can then create an optimizer. In this case, we will use the AdamOptimizer, which is an advanced form of Gradient Descent.\n",
    "\n",
    "Note that optimization is not performed at this point. Nothing has been calculated at all. All we did is add the optimizer-object to the Tensorflow graph for later execution. "
   ]
  },
  {
   "cell_type": "code",
   "execution_count": 173,
   "metadata": {},
   "outputs": [],
   "source": [
    "optimizer = tf.train.AdamOptimizer(learning_rate=1e-4).minimize(cost)"
   ]
  },
  {
   "cell_type": "markdown",
   "metadata": {},
   "source": [
    "# Peformance Measures\n",
    "\n",
    "We need a few more performance measures to display the progress to the user.\n",
    "This is a vector of booleans whether the predicted class equals the true class of each image."
   ]
  },
  {
   "cell_type": "code",
   "execution_count": 174,
   "metadata": {},
   "outputs": [],
   "source": [
    "correct_prediction = tf.equal(y_pred_cls, y_true_cls)"
   ]
  },
  {
   "cell_type": "markdown",
   "metadata": {},
   "source": [
    "This calculated the classification accuracy by first type-casting the vector of booleans to floats, so that False becomes 0 and True bnecomes 1, and then calculating the average of these numbers."
   ]
  },
  {
   "cell_type": "code",
   "execution_count": 175,
   "metadata": {},
   "outputs": [],
   "source": [
    "accuracy = tf.reduce_mean(tf.cast(correct_prediction, tf.float32))"
   ]
  },
  {
   "cell_type": "markdown",
   "metadata": {},
   "source": [
    "# Running Tensorflow\n",
    "\n",
    "### Create Tensorflow Session\n",
    "Once the Tensorflow graph has been created, we have to create the Tensorflow sessions which is used to execute the graph."
   ]
  },
  {
   "cell_type": "code",
   "execution_count": 176,
   "metadata": {},
   "outputs": [],
   "source": [
    "session = tf.Session()"
   ]
  },
  {
   "cell_type": "markdown",
   "metadata": {},
   "source": [
    "### Initialize Variables\n",
    "The variables for weights and biases must be intialized before we can start optimizing them."
   ]
  },
  {
   "cell_type": "code",
   "execution_count": 177,
   "metadata": {},
   "outputs": [],
   "source": [
    "session.run(tf.global_variables_initializer())"
   ]
  },
  {
   "cell_type": "markdown",
   "metadata": {},
   "source": [
    "# Helper-function to perform optimization iterations\n",
    "\n",
    "There are 55,000 images in the training-set. It takes a long time to calculate the gradient of the model using all these images. To reduce this time, we will only use a small batch of images in each iteration of the optimizer.\n",
    "\n",
    "If your computer crashed or becomes very sloe because you run out of RAM, then you can try and lower this number but you may need to perform more optimization iterations."
   ]
  },
  {
   "cell_type": "code",
   "execution_count": 178,
   "metadata": {},
   "outputs": [],
   "source": [
    "train_batch_size = 64"
   ]
  },
  {
   "cell_type": "markdown",
   "metadata": {},
   "source": [
    "Function for performing a number of optimization iterations so as to gradually improve the variables of the network layers. In each iteration, a new batch of data is selected from the training-set and then Tensorflow executes the optimizer using those training samples. \n",
    "\n",
    "We will print the progress every 100 iterations."
   ]
  },
  {
   "cell_type": "code",
   "execution_count": 179,
   "metadata": {},
   "outputs": [],
   "source": [
    "# Counter for the total number of iterations done so far:\n",
    "total_iterations = 0\n",
    "\n",
    "def optimize(num_iterations):\n",
    "    #Ensure we update the global variable rather than a local copy\n",
    "    global total_iterations\n",
    "    \n",
    "    for i in range(total_iterations,\n",
    "                  total_iterations + num_iterations):\n",
    "        \n",
    "        # Get a batch of training samples.\n",
    "        # x_batch now holds a batch of images and\n",
    "        # y_true_batch are the true labels for those images.\n",
    "        x_batch, y_true_batch = data.train.next_batch(train_batch_size)\n",
    "        \n",
    "        # Put the batch into a dict with the proper names\n",
    "        # for placeholder variables in the Tensorflow graph\n",
    "        feed_dict_train = {x: x_batch,\n",
    "                          y_true: y_true_batch}\n",
    "        \n",
    "        # Run the optimizer using this batch of training samples.\n",
    "        # Tensorflow assigns the variables in feed_dict_train to\n",
    "        # the placeholder variables and then runs the optimizer\n",
    "        session.run(optimizer, feed_dict=feed_dict_train)\n",
    "        \n",
    "        # Print status every 100 iterations\n",
    "        if i % 100 == 0:\n",
    "            # Calculate the accuracy on the training set\n",
    "            acc = session.run(accuracy, feed_dict=feed_dict_train)\n",
    "            \n",
    "            # Message for printing\n",
    "            msg = \"Optimization Iteration: {0:>6}, Training Accuracy: {1:>6.1%}\"\n",
    "            \n",
    "            print(msg.format(i + 1, acc))\n",
    "        \n",
    "        # Update the total number of iterations performed\n",
    "        total_iterations += num_iterations"
   ]
  },
  {
   "cell_type": "markdown",
   "metadata": {},
   "source": [
    "# Helper-function to plot example errors\n",
    "Function for plotting examples of images from the test-set that have been mis-classified"
   ]
  },
  {
   "cell_type": "code",
   "execution_count": 180,
   "metadata": {},
   "outputs": [],
   "source": [
    "def plot_example_errors(cls_pred, correct):\n",
    "    # This function is called from print_test_accuracy()\n",
    "    \n",
    "    # cls_pred is an array of the predicted class-number for\n",
    "    # all images in the test-set\n",
    "    \n",
    "    # correct is a boolean aray whether the predicted class\n",
    "    # is equal to the true class for each image in the test-set\n",
    "    \n",
    "    # Negate the boolean array\n",
    "    incorrect = (correct == False)\n",
    "    \n",
    "    # Get the images from the test-set that have been \n",
    "    # incorrectly identified\n",
    "    images = data.test.images[incorrect]\n",
    "    \n",
    "    # Get the predicted classes for those images\n",
    "    cls_pred = cls_pred[incorrect]\n",
    "    \n",
    "    # Get the true classes for those images\n",
    "    cls_true = data.test.cls[incorrect]\n",
    "    \n",
    "    # Plot the first 9 images\n",
    "    plot_images(images=images[0:9],\n",
    "               cls_true=cls_true[0:9],\n",
    "               cls_pred=cls_pred[0:9])"
   ]
  },
  {
   "cell_type": "code",
   "execution_count": 181,
   "metadata": {},
   "outputs": [],
   "source": [
    "def plot_example_correct(cls_pred, correct):\n",
    "    # This function is called from print_test_accuracy()\n",
    "    \n",
    "    # cls_pred is an array of the predicted class-number for\n",
    "    # all images in the test-set\n",
    "    \n",
    "    # correct is a boolean aray whether the predicted class\n",
    "    # is equal to the true class for each image in the test-set\n",
    "    \n",
    "    # Negate the boolean array\n",
    "    correct = (correct == True)\n",
    "    \n",
    "    # Get the images from the test-set that have been \n",
    "    # incorrectly identified\n",
    "    images = data.test.images[correct]\n",
    "    \n",
    "    # Get the predicted classes for those images\n",
    "    cls_pred = cls_pred[correct]\n",
    "    \n",
    "    # Get the true classes for those images\n",
    "    cls_true = data.test.cls[correct]\n",
    "    \n",
    "    # Plot the first 9 images\n",
    "    plot_images(images=images[0:9],\n",
    "               cls_true=cls_true[0:9],\n",
    "               cls_pred=cls_pred[0:9])"
   ]
  },
  {
   "cell_type": "markdown",
   "metadata": {},
   "source": [
    "# Helper-funciton to plot confusion matrix"
   ]
  },
  {
   "cell_type": "code",
   "execution_count": 182,
   "metadata": {},
   "outputs": [],
   "source": [
    "def plot_confusion_matrix(cls_pred):\n",
    "    # This function is called from print_test_accuracy()\n",
    "    \n",
    "    # cls_pred is an array of the predicted class-number for\n",
    "    # all images in the test-set\n",
    "    \n",
    "    # Get the true classifications for the test-set.\n",
    "    cls_true = data.test.cls\n",
    "    \n",
    "    # Get the confusion matrix using sklearn.\n",
    "    cm = confusion_matrix(y_true=cls_true,\n",
    "                          y_pred=cls_pred)\n",
    "    \n",
    "    # Print the confusion matrix as text.\n",
    "    print(cm)\n",
    "\n",
    "    # Plot the confusion matrix as an image.\n",
    "    plt.matshow(cm)\n",
    "    \n",
    "    # Make various adjustments to the plot.\n",
    "    plt.colorbar()\n",
    "    tick_marks = np.arange(num_classes)\n",
    "    plt.xticks(tick_marks, range(num_classes))\n",
    "    plt.yticks(tick_marks, range(num_classes))\n",
    "    plt.xlabel('Predicted')\n",
    "    plt.ylabel('True')\n",
    "\n",
    "    # Ensure the plot is shown correctly with multiple plots\n",
    "    # in a single Notebook cell.\n",
    "    plt.show()"
   ]
  },
  {
   "cell_type": "markdown",
   "metadata": {},
   "source": [
    "# Helper-function for showing the performance\n",
    "\n",
    "This function prints the classification accuracy on the test-set.\n",
    "\n",
    "It takes a while to compute the classification for all images in the test-set. This is why the results are re-used by calling the above functions directly from this function, so the classifications don't have to be recalculated by each function.\n",
    "\n",
    "Note: this function can use a lot of computer memoery, which is why the test-set is split into smaller batches. Try lowing the batch-size if your computer doesn't have enough RAM."
   ]
  },
  {
   "cell_type": "code",
   "execution_count": 183,
   "metadata": {},
   "outputs": [],
   "source": [
    "# Split the test-set into smaller batches of this size\n",
    "test_batch_size = 256\n",
    "\n",
    "def print_test_accuracy(show_example_errors=False,\n",
    "                       show_confusion_matrix=False,\n",
    "                       show_example_correct=False):\n",
    "    \n",
    "    # Number of images in the test set\n",
    "    num_test = len(data.test.images)\n",
    "    \n",
    "    # Allocate an array for the precicted classes which\n",
    "    # will be calculated in batches and filled into this array\n",
    "    cls_pred = np.zeros(shape=num_test, dtype=np.int)\n",
    "    \n",
    "    # Now calculate the predicted classes for the batches.\n",
    "    # We will just iterate through all the batches.\n",
    "    \n",
    "    # The starting index for the next batch is denoted i.\n",
    "    i = 0\n",
    "    \n",
    "    while i < num_test:\n",
    "        # The ending index for the next batch is denoted j.\n",
    "        j = min(i + test_batch_size, num_test)\n",
    "        \n",
    "        # Get the imnags from the test-set between index i and j\n",
    "        images = data.test.images[i:j, :]\n",
    "        \n",
    "        # Get the associated labels\n",
    "        labels = data.test.labels[i:j, :]\n",
    "        \n",
    "        # Create a feed-dict with these images and labels\n",
    "        feed_dict = {x: images,\n",
    "                     y_true: labels}\n",
    "        \n",
    "        # Calculate the predicted class using TensorFlow.\n",
    "        cls_pred[i:j] = session.run(y_pred_cls, feed_dict=feed_dict)\n",
    "        \n",
    "        # Set the start-index for the next batch to the\n",
    "        # end-index of the current batch.\n",
    "        i = j\n",
    "        \n",
    "    # Convenience variable for the true class-numbers of the test-set.\n",
    "    cls_true = data.test.cls\n",
    "    \n",
    "    # Create a boolean array whether each image is correctly classified.\n",
    "    correct = (cls_true == cls_pred)\n",
    "    \n",
    "     # Calculate the number of correctly classified images.\n",
    "    # When summing a boolean array, False means 0 and True means 1.\n",
    "    correct_sum = correct.sum()\n",
    "    \n",
    "    # Classification accuracy is the number of correctly classified\n",
    "    # images divided by the total number of images in the test-set.\n",
    "    acc = float(correct_sum) / num_test\n",
    "    \n",
    "     # Print the accuracy.\n",
    "    msg = \"Accuracy on Test-Set: {0:.1%} ({1} / {2})\"\n",
    "    print(msg.format(acc, correct_sum, num_test))\n",
    "    \n",
    "    # Plot some examples of mis-classifications, if desired.\n",
    "    if show_example_errors:\n",
    "        print(\"Example errors:\")\n",
    "        plot_example_errors(cls_pred=cls_pred, correct=correct)\n",
    "        \n",
    "    if show_example_correct:\n",
    "        print(\"Example correct\")\n",
    "        plot_example_correct(cls_pred=cls_pred, correct=correct)               \n",
    "        \n",
    "    # Plot the confusion matrix, if desired.\n",
    "    if show_confusion_matrix:\n",
    "        print(\"Confusion Matrix:\")\n",
    "        plot_confusion_matrix(cls_pred=cls_pred)\n",
    "                        \n",
    "    "
   ]
  },
  {
   "cell_type": "markdown",
   "metadata": {},
   "source": [
    "# Performance before any optimization\n",
    "\n",
    "The accuracy on the test-set is very low becase the model variables have only been initialized and not optimized at all, so it just classifies the images randomly."
   ]
  },
  {
   "cell_type": "code",
   "execution_count": 184,
   "metadata": {},
   "outputs": [
    {
     "name": "stdout",
     "output_type": "stream",
     "text": [
      "Accuracy on Test-Set: 12.2% (1224 / 10000)\n"
     ]
    }
   ],
   "source": [
    "print_test_accuracy()"
   ]
  },
  {
   "cell_type": "markdown",
   "metadata": {},
   "source": [
    "# Performance after 1 optimization iteration\n",
    "\n",
    "The classification accuracy does not improve much from just 1 optimization iteration, because the learning-rate for the optimizer is set very low."
   ]
  },
  {
   "cell_type": "code",
   "execution_count": 185,
   "metadata": {},
   "outputs": [
    {
     "name": "stdout",
     "output_type": "stream",
     "text": [
      "Optimization Iteration:      1, Training Accuracy:  14.1%\n"
     ]
    }
   ],
   "source": [
    "optimize(num_iterations=1)"
   ]
  },
  {
   "cell_type": "code",
   "execution_count": 186,
   "metadata": {},
   "outputs": [
    {
     "name": "stdout",
     "output_type": "stream",
     "text": [
      "Accuracy on Test-Set: 12.2% (1215 / 10000)\n"
     ]
    }
   ],
   "source": [
    "print_test_accuracy()"
   ]
  },
  {
   "cell_type": "markdown",
   "metadata": {},
   "source": [
    "# Performance after 100 optimization iterations\n",
    "\n",
    "After 100 optimization iterations, the model has significantly improved its classification accuracy."
   ]
  },
  {
   "cell_type": "code",
   "execution_count": 187,
   "metadata": {},
   "outputs": [],
   "source": [
    "optimize(num_iterations=99) # We already performed 1 iteration above."
   ]
  },
  {
   "cell_type": "code",
   "execution_count": 188,
   "metadata": {},
   "outputs": [
    {
     "name": "stdout",
     "output_type": "stream",
     "text": [
      "Accuracy on Test-Set: 74.6% (7458 / 10000)\n",
      "Example errors:\n"
     ]
    },
    {
     "data": {
      "image/png": "[encoded data removed]",
      "text/plain": [
       "<Figure size 432x288 with 9 Axes>"
      ]
     },
     "metadata": {},
     "output_type": "display_data"
    }
   ],
   "source": [
    "print_test_accuracy(show_example_errors=True)"
   ]
  },
  {
   "cell_type": "markdown",
   "metadata": {},
   "source": [
    "# Performance after 1000 optimization iterations\n",
    "\n",
    "After 1000 optimization iterations, the model has greatly increased its accuracy on the test-set to more than 80%."
   ]
  },
  {
   "cell_type": "code",
   "execution_count": 189,
   "metadata": {},
   "outputs": [
    {
     "name": "stdout",
     "output_type": "stream",
     "text": [
      "Optimization Iteration:   9901, Training Accuracy:  79.7%\n",
      "Optimization Iteration:  10001, Training Accuracy:  93.8%\n",
      "Optimization Iteration:  10101, Training Accuracy:  93.8%\n",
      "Optimization Iteration:  10201, Training Accuracy:  89.1%\n",
      "Optimization Iteration:  10301, Training Accuracy:  87.5%\n",
      "Optimization Iteration:  10401, Training Accuracy:  93.8%\n",
      "Optimization Iteration:  10501, Training Accuracy:  90.6%\n",
      "Optimization Iteration:  10601, Training Accuracy:  92.2%\n",
      "Optimization Iteration:  10701, Training Accuracy:  90.6%\n"
     ]
    }
   ],
   "source": [
    "optimize(num_iterations=900) # We performed 100 iterations above."
   ]
  },
  {
   "cell_type": "code",
   "execution_count": 190,
   "metadata": {},
   "outputs": [
    {
     "name": "stdout",
     "output_type": "stream",
     "text": [
      "Accuracy on Test-Set: 93.5% (9345 / 10000)\n",
      "Example errors:\n"
     ]
    },
    {
     "data": {
      "image/png": "[encoded data removed]",
      "text/plain": [
       "<Figure size 432x288 with 9 Axes>"
      ]
     },
     "metadata": {},
     "output_type": "display_data"
    }
   ],
   "source": [
    "print_test_accuracy(show_example_errors=True)"
   ]
  },
  {
   "cell_type": "markdown",
   "metadata": {},
   "source": [
    "# Performance after 10,000 optimization iterations\n",
    "\n",
    "After 10,000 optimization iterations, the model has a classification accuracy on the test-set of about 99%."
   ]
  },
  {
   "cell_type": "code",
   "execution_count": 191,
   "metadata": {},
   "outputs": [
    {
     "name": "stdout",
     "output_type": "stream",
     "text": [
      "Optimization Iteration: 819901, Training Accuracy:  90.6%\n",
      "Optimization Iteration: 820001, Training Accuracy:  92.2%\n",
      "Optimization Iteration: 820101, Training Accuracy:  93.8%\n",
      "Optimization Iteration: 820201, Training Accuracy:  93.8%\n",
      "Optimization Iteration: 820301, Training Accuracy:  96.9%\n",
      "Optimization Iteration: 820401, Training Accuracy:  98.4%\n",
      "Optimization Iteration: 820501, Training Accuracy:  92.2%\n",
      "Optimization Iteration: 820601, Training Accuracy:  96.9%\n",
      "Optimization Iteration: 820701, Training Accuracy:  96.9%\n",
      "Optimization Iteration: 820801, Training Accuracy:  98.4%\n",
      "Optimization Iteration: 820901, Training Accuracy:  96.9%\n",
      "Optimization Iteration: 821001, Training Accuracy: 100.0%\n",
      "Optimization Iteration: 821101, Training Accuracy: 100.0%\n",
      "Optimization Iteration: 821201, Training Accuracy:  95.3%\n",
      "Optimization Iteration: 821301, Training Accuracy:  98.4%\n",
      "Optimization Iteration: 821401, Training Accuracy:  96.9%\n",
      "Optimization Iteration: 821501, Training Accuracy:  98.4%\n",
      "Optimization Iteration: 821601, Training Accuracy:  93.8%\n",
      "Optimization Iteration: 821701, Training Accuracy:  98.4%\n",
      "Optimization Iteration: 821801, Training Accuracy:  95.3%\n",
      "Optimization Iteration: 821901, Training Accuracy:  93.8%\n",
      "Optimization Iteration: 822001, Training Accuracy:  96.9%\n",
      "Optimization Iteration: 822101, Training Accuracy:  98.4%\n",
      "Optimization Iteration: 822201, Training Accuracy:  96.9%\n",
      "Optimization Iteration: 822301, Training Accuracy:  93.8%\n",
      "Optimization Iteration: 822401, Training Accuracy:  96.9%\n",
      "Optimization Iteration: 822501, Training Accuracy:  96.9%\n",
      "Optimization Iteration: 822601, Training Accuracy:  96.9%\n",
      "Optimization Iteration: 822701, Training Accuracy:  96.9%\n",
      "Optimization Iteration: 822801, Training Accuracy:  98.4%\n",
      "Optimization Iteration: 822901, Training Accuracy: 100.0%\n",
      "Optimization Iteration: 823001, Training Accuracy:  98.4%\n",
      "Optimization Iteration: 823101, Training Accuracy:  96.9%\n",
      "Optimization Iteration: 823201, Training Accuracy: 100.0%\n",
      "Optimization Iteration: 823301, Training Accuracy:  95.3%\n",
      "Optimization Iteration: 823401, Training Accuracy:  95.3%\n",
      "Optimization Iteration: 823501, Training Accuracy: 100.0%\n",
      "Optimization Iteration: 823601, Training Accuracy:  96.9%\n",
      "Optimization Iteration: 823701, Training Accuracy: 100.0%\n",
      "Optimization Iteration: 823801, Training Accuracy:  98.4%\n",
      "Optimization Iteration: 823901, Training Accuracy: 100.0%\n",
      "Optimization Iteration: 824001, Training Accuracy:  98.4%\n",
      "Optimization Iteration: 824101, Training Accuracy: 100.0%\n",
      "Optimization Iteration: 824201, Training Accuracy:  98.4%\n",
      "Optimization Iteration: 824301, Training Accuracy:  93.8%\n",
      "Optimization Iteration: 824401, Training Accuracy:  96.9%\n",
      "Optimization Iteration: 824501, Training Accuracy:  96.9%\n",
      "Optimization Iteration: 824601, Training Accuracy:  98.4%\n",
      "Optimization Iteration: 824701, Training Accuracy: 100.0%\n",
      "Optimization Iteration: 824801, Training Accuracy: 100.0%\n",
      "Optimization Iteration: 824901, Training Accuracy: 100.0%\n",
      "Optimization Iteration: 825001, Training Accuracy:  95.3%\n",
      "Optimization Iteration: 825101, Training Accuracy:  98.4%\n",
      "Optimization Iteration: 825201, Training Accuracy:  98.4%\n",
      "Optimization Iteration: 825301, Training Accuracy:  96.9%\n",
      "Optimization Iteration: 825401, Training Accuracy: 100.0%\n",
      "Optimization Iteration: 825501, Training Accuracy: 100.0%\n",
      "Optimization Iteration: 825601, Training Accuracy: 100.0%\n",
      "Optimization Iteration: 825701, Training Accuracy: 100.0%\n",
      "Optimization Iteration: 825801, Training Accuracy:  98.4%\n",
      "Optimization Iteration: 825901, Training Accuracy:  98.4%\n",
      "Optimization Iteration: 826001, Training Accuracy: 100.0%\n",
      "Optimization Iteration: 826101, Training Accuracy: 100.0%\n",
      "Optimization Iteration: 826201, Training Accuracy:  96.9%\n",
      "Optimization Iteration: 826301, Training Accuracy:  95.3%\n",
      "Optimization Iteration: 826401, Training Accuracy: 100.0%\n",
      "Optimization Iteration: 826501, Training Accuracy: 100.0%\n",
      "Optimization Iteration: 826601, Training Accuracy: 100.0%\n",
      "Optimization Iteration: 826701, Training Accuracy:  96.9%\n",
      "Optimization Iteration: 826801, Training Accuracy:  96.9%\n",
      "Optimization Iteration: 826901, Training Accuracy:  96.9%\n",
      "Optimization Iteration: 827001, Training Accuracy: 100.0%\n",
      "Optimization Iteration: 827101, Training Accuracy: 100.0%\n",
      "Optimization Iteration: 827201, Training Accuracy: 100.0%\n",
      "Optimization Iteration: 827301, Training Accuracy:  96.9%\n",
      "Optimization Iteration: 827401, Training Accuracy:  98.4%\n",
      "Optimization Iteration: 827501, Training Accuracy: 100.0%\n",
      "Optimization Iteration: 827601, Training Accuracy:  98.4%\n",
      "Optimization Iteration: 827701, Training Accuracy:  98.4%\n",
      "Optimization Iteration: 827801, Training Accuracy:  98.4%\n",
      "Optimization Iteration: 827901, Training Accuracy:  96.9%\n",
      "Optimization Iteration: 828001, Training Accuracy:  96.9%\n",
      "Optimization Iteration: 828101, Training Accuracy:  96.9%\n",
      "Optimization Iteration: 828201, Training Accuracy: 100.0%\n",
      "Optimization Iteration: 828301, Training Accuracy:  96.9%\n",
      "Optimization Iteration: 828401, Training Accuracy: 100.0%\n",
      "Optimization Iteration: 828501, Training Accuracy:  96.9%\n",
      "Optimization Iteration: 828601, Training Accuracy: 100.0%\n",
      "Optimization Iteration: 828701, Training Accuracy: 100.0%\n",
      "Optimization Iteration: 828801, Training Accuracy: 100.0%\n"
     ]
    }
   ],
   "source": [
    "optimize(num_iterations=9000) # We performed 1000 iterations above."
   ]
  },
  {
   "cell_type": "code",
   "execution_count": 192,
   "metadata": {},
   "outputs": [
    {
     "name": "stdout",
     "output_type": "stream",
     "text": [
      "Accuracy on Test-Set: 98.8% (9877 / 10000)\n",
      "Example errors:\n"
     ]
    },
    {
     "data": {
      "image/png": "[encoded data removed]",
      "text/plain": [
       "<Figure size 432x288 with 9 Axes>"
      ]
     },
     "metadata": {},
     "output_type": "display_data"
    },
    {
     "name": "stdout",
     "output_type": "stream",
     "text": [
      "Example correct\n"
     ]
    },
    {
     "data": {
      "image/png": "[encoded data removed]",
      "text/plain": [
       "<Figure size 432x288 with 9 Axes>"
      ]
     },
     "metadata": {},
     "output_type": "display_data"
    },
    {
     "name": "stdout",
     "output_type": "stream",
     "text": [
      "Confusion Matrix:\n",
      "[[ 972    0    1    0    0    1    2    1    3    0]\n",
      " [   0 1132    1    0    0    0    1    1    0    0]\n",
      " [   3    3 1010    1    1    0    0    6    8    0]\n",
      " [   0    0    1 1000    0    3    0    4    2    0]\n",
      " [   0    0    1    0  975    0    1    2    0    3]\n",
      " [   1    1    0    5    0  882    1    0    1    1]\n",
      " [   4    3    0    1    2    6  942    0    0    0]\n",
      " [   0    1    2    2    0    0    0 1021    1    1]\n",
      " [   3    1    1    5    1    1    0    2  958    2]\n",
      " [   2    5    0    4    5    2    0    3    3  985]]\n"
     ]
    },
    {
     "data": {
      "image/png": "[encoded data removed]",
      "text/plain": [
       "<Figure size 288x288 with 2 Axes>"
      ]
     },
     "metadata": {
      "needs_background": "light"
     },
     "output_type": "display_data"
    }
   ],
   "source": [
    "print_test_accuracy(show_example_errors=True,\n",
    "                    show_confusion_matrix=True,\n",
    "                    show_example_correct=True)"
   ]
  },
  {
   "cell_type": "markdown",
   "metadata": {},
   "source": [
    "# Visualization of Weights and Layers\n",
    "\n",
    "We can visualize the weights of the convolutional filters and the resulting output images in order to understand how a CNN can recognize handwritten digits."
   ]
  },
  {
   "cell_type": "markdown",
   "metadata": {},
   "source": [
    "### Helper-function for plotting convolutional weights"
   ]
  },
  {
   "cell_type": "code",
   "execution_count": 193,
   "metadata": {},
   "outputs": [],
   "source": [
    "def plot_conv_weights(weights, input_channel=0):\n",
    "    # Assume weights are Tensorflow ops for 4-dim variables\n",
    "    # e.g. weights_conv1 or weights_conv2.\n",
    "    \n",
    "    # Retrieve the values of the weight-variables from TensorFlow.\n",
    "    # A feed-dict is not necessary because nothing is calculated.\n",
    "    w = session.run(weights)\n",
    "\n",
    "    # Get the lowest and highest values for the weights.\n",
    "    # This is used to correct the colour intensity across\n",
    "    # the images so they can be compared with each other.\n",
    "    w_min = np.min(w)\n",
    "    w_max = np.max(w)\n",
    "\n",
    "    # Number of filters used in the conv. layer.\n",
    "    num_filters = w.shape[3]\n",
    "\n",
    "    # Number of grids to plot.\n",
    "    # Rounded-up, square-root of the number of filters.\n",
    "    num_grids = math.ceil(math.sqrt(num_filters))\n",
    "    \n",
    "    # Create figure with a grid of sub-plots.\n",
    "    fig, axes = plt.subplots(num_grids, num_grids)\n",
    "\n",
    "    # Plot all the filter-weights.\n",
    "    for i, ax in enumerate(axes.flat):\n",
    "        # Only plot the valid filter-weights.\n",
    "        if i<num_filters:\n",
    "            # Get the weights for the i'th filter of the input channel.\n",
    "            # See new_conv_layer() for details on the format\n",
    "            # of this 4-dim tensor.\n",
    "            img = w[:, :, input_channel, i]\n",
    "\n",
    "            # Plot image.\n",
    "            ax.imshow(img, vmin=w_min, vmax=w_max,\n",
    "                      interpolation='nearest', cmap='seismic')\n",
    "        \n",
    "        # Remove ticks from the plot.\n",
    "        ax.set_xticks([])\n",
    "        ax.set_yticks([])\n",
    "    \n",
    "    # Ensure the plot is shown correctly with multiple plots\n",
    "    # in a single Notebook cell.\n",
    "    plt.show()"
   ]
  },
  {
   "cell_type": "markdown",
   "metadata": {},
   "source": [
    "### Helper-function for plotting the output of a convolutional layer"
   ]
  },
  {
   "cell_type": "code",
   "execution_count": 194,
   "metadata": {},
   "outputs": [],
   "source": [
    "def plot_conv_layer(layer, image):\n",
    "    # Assume layer is a TensorFlow op that outputs a 4-dim tensor\n",
    "    # which is the output of a convolutional layer,\n",
    "    # e.g. layer_conv1 or layer_conv2.\n",
    "\n",
    "    # Create a feed-dict containing just one image.\n",
    "    # Note that we don't need to feed y_true because it is\n",
    "    # not used in this calculation.\n",
    "    feed_dict = {x: [image]}\n",
    "\n",
    "    # Calculate and retrieve the output values of the layer\n",
    "    # when inputting that image.\n",
    "    values = session.run(layer, feed_dict=feed_dict)\n",
    "\n",
    "    # Number of filters used in the conv. layer.\n",
    "    num_filters = values.shape[3]\n",
    "\n",
    "    # Number of grids to plot.\n",
    "    # Rounded-up, square-root of the number of filters.\n",
    "    num_grids = math.ceil(math.sqrt(num_filters))\n",
    "    \n",
    "    # Create figure with a grid of sub-plots.\n",
    "    fig, axes = plt.subplots(num_grids, num_grids)\n",
    "\n",
    "    # Plot the output images of all the filters.\n",
    "    for i, ax in enumerate(axes.flat):\n",
    "        # Only plot the images for valid filters.\n",
    "        if i<num_filters:\n",
    "            # Get the output image of using the i'th filter.\n",
    "            # See new_conv_layer() for details on the format\n",
    "            # of this 4-dim tensor.\n",
    "            img = values[0, :, :, i]\n",
    "\n",
    "            # Plot image.\n",
    "            ax.imshow(img, interpolation='nearest', cmap='binary')\n",
    "        \n",
    "        # Remove ticks from the plot.\n",
    "        ax.set_xticks([])\n",
    "        ax.set_yticks([])\n",
    "    \n",
    "    # Ensure the plot is shown correctly with multiple plots\n",
    "    # in a single Notebook cell.\n",
    "    plt.show()"
   ]
  },
  {
   "cell_type": "markdown",
   "metadata": {},
   "source": [
    "# Input Images"
   ]
  },
  {
   "cell_type": "markdown",
   "metadata": {},
   "source": [
    "### Helper-function for plotting an image"
   ]
  },
  {
   "cell_type": "code",
   "execution_count": 195,
   "metadata": {},
   "outputs": [],
   "source": [
    "def plot_image(image):\n",
    "    plt.imshow(image.reshape(img_shape),\n",
    "               interpolation='nearest',\n",
    "               cmap='binary')\n",
    "\n",
    "    plt.show()"
   ]
  },
  {
   "cell_type": "code",
   "execution_count": 196,
   "metadata": {},
   "outputs": [
    {
     "data": {
      "image/png": "[encoded data removed]",
      "text/plain": [
       "<Figure size 432x288 with 1 Axes>"
      ]
     },
     "metadata": {
      "needs_background": "light"
     },
     "output_type": "display_data"
    }
   ],
   "source": [
    "image1 = data.test.images[0]\n",
    "plot_image(image1)"
   ]
  },
  {
   "cell_type": "code",
   "execution_count": 197,
   "metadata": {},
   "outputs": [
    {
     "data": {
      "image/png": "[encoded data removed]",
      "text/plain": [
       "<Figure size 432x288 with 1 Axes>"
      ]
     },
     "metadata": {
      "needs_background": "light"
     },
     "output_type": "display_data"
    }
   ],
   "source": [
    "image2 = data.test.images[13]\n",
    "plot_image(image2)"
   ]
  },
  {
   "cell_type": "markdown",
   "metadata": {},
   "source": [
    "# Plotting Convolution Layer 1\n",
    "Now plot the filter-weights for the first convolutional layer.\n",
    "Note that positive weights are red and negative weights are blue."
   ]
  },
  {
   "cell_type": "code",
   "execution_count": 198,
   "metadata": {},
   "outputs": [
    {
     "data": {
      "image/png": "[encoded data removed]",
      "text/plain": [
       "<Figure size 432x288 with 16 Axes>"
      ]
     },
     "metadata": {},
     "output_type": "display_data"
    }
   ],
   "source": [
    "plot_conv_weights(weights=weights_conv1)"
   ]
  },
  {
   "cell_type": "markdown",
   "metadata": {},
   "source": [
    "Applying each of these convolutional filters to the first input image gives the following output images, which are then used as input to the second convolutional layer. Note that these images are down-sampled to 14 x 14 pixels which is half the resolution of the original input image."
   ]
  },
  {
   "cell_type": "code",
   "execution_count": 199,
   "metadata": {},
   "outputs": [
    {
     "data": {
      "image/png": "[encoded data removed]",
      "text/plain": [
       "<Figure size 432x288 with 16 Axes>"
      ]
     },
     "metadata": {},
     "output_type": "display_data"
    }
   ],
   "source": [
    "plot_conv_layer(layer=layer_conv1, image=image1)"
   ]
  },
  {
   "cell_type": "code",
   "execution_count": 200,
   "metadata": {},
   "outputs": [
    {
     "data": {
      "image/png": "[encoded data removed]",
      "text/plain": [
       "<Figure size 432x288 with 16 Axes>"
      ]
     },
     "metadata": {},
     "output_type": "display_data"
    }
   ],
   "source": [
    "plot_conv_layer(layer=layer_conv1, image=image2)"
   ]
  },
  {
   "cell_type": "markdown",
   "metadata": {},
   "source": [
    "It is difficult to see from these images what the purpose of the convolutional filters might be. It appears that they have merely created several variations of the input image, as if light was shining from different angles and casting shadows in the image."
   ]
  },
  {
   "cell_type": "markdown",
   "metadata": {},
   "source": [
    "# Convolution Layer 2\n",
    "Now plot the filter-weights for the second convolutional layer.\n",
    "\n",
    "There are 16 output channels from the first conv-layer, which means there are 16 input channels to the second conv-layer. The second conv-layer has a set of filter-weights for each of its input channels. We start by plotting the filter-weigths for the first channel.\n",
    "\n",
    "Note again that positive weights are red and negative weights are blue."
   ]
  },
  {
   "cell_type": "code",
   "execution_count": 201,
   "metadata": {},
   "outputs": [
    {
     "data": {
      "image/png": "[encoded data removed]",
      "text/plain": [
       "<Figure size 432x288 with 36 Axes>"
      ]
     },
     "metadata": {},
     "output_type": "display_data"
    }
   ],
   "source": [
    "plot_conv_weights(weights=weights_conv2, input_channel=0)"
   ]
  },
  {
   "cell_type": "markdown",
   "metadata": {},
   "source": [
    "There are 16 input channels to the second convolutional layer, so we can make another 15 plots of filter-weights like this. We just make one more with the filter-weights for the second channel."
   ]
  },
  {
   "cell_type": "code",
   "execution_count": 202,
   "metadata": {},
   "outputs": [
    {
     "data": {
      "image/png": "[encoded data removed]",
      "text/plain": [
       "<Figure size 432x288 with 36 Axes>"
      ]
     },
     "metadata": {},
     "output_type": "display_data"
    }
   ],
   "source": [
    "plot_conv_weights(weights=weights_conv2, input_channel=1)"
   ]
  },
  {
   "cell_type": "markdown",
   "metadata": {},
   "source": [
    "It can be difficult to understand and keep track of how these filters are applied because of the high dimensionality.\n",
    "\n",
    "Applying these convolutional filters to the images that were ouput from the first conv-layer gives the following images.\n",
    "\n",
    "Note that these are down-sampled yet again to 7 x 7 pixels which is half the resolution of the images from the first conv-layer."
   ]
  },
  {
   "cell_type": "code",
   "execution_count": 203,
   "metadata": {},
   "outputs": [
    {
     "data": {
      "image/png": "[encoded data removed]",
      "text/plain": [
       "<Figure size 432x288 with 36 Axes>"
      ]
     },
     "metadata": {},
     "output_type": "display_data"
    }
   ],
   "source": [
    "plot_conv_layer(layer=layer_conv2, image=image1)"
   ]
  },
  {
   "cell_type": "markdown",
   "metadata": {},
   "source": [
    "And these are the results of applying the filter-weights to the second image."
   ]
  },
  {
   "cell_type": "code",
   "execution_count": 204,
   "metadata": {},
   "outputs": [
    {
     "data": {
      "image/png": "[encoded data removed]",
      "text/plain": [
       "<Figure size 432x288 with 36 Axes>"
      ]
     },
     "metadata": {},
     "output_type": "display_data"
    }
   ],
   "source": [
    "plot_conv_layer(layer=layer_conv2, image=image2)"
   ]
  },
  {
   "cell_type": "markdown",
   "metadata": {},
   "source": [
    "From these images, it looks like the second convolutional layer might detect lines and patterns in the input images, which are less sensitive to local variations in the original input images.\n",
    "\n",
    "These images are then flattened and input to the fully-connected layer, but that is not shown here."
   ]
  },
  {
   "cell_type": "markdown",
   "metadata": {},
   "source": [
    "# Terminate the Tensorflow session\n",
    "\n",
    "We are done using Tensoeflow, so we can close the session in order to release its resources."
   ]
  },
  {
   "cell_type": "code",
   "execution_count": 205,
   "metadata": {},
   "outputs": [],
   "source": [
    "session.close()"
   ]
  },
  {
   "cell_type": "markdown",
   "metadata": {},
   "source": [
    "This notebook was made possible by Siraj Raval's LIVE [video](https://www.youtube.com/watch?v=APmF6qE3Vjc&index=12&list=PL2-dafEMk2A7YdKv4XfKpfbTH5z6rEEj3) on classifying images using Tensorflow and [Hvass-Labs](http://www.hvass-labs.org/)"
   ]
  }
 ],
 "metadata": {
  "kernelspec": {
   "display_name": "Python 3",
   "language": "python",
   "name": "python3"
  },
  "language_info": {
   "codemirror_mode": {
    "name": "ipython",
    "version": 3
   },
   "file_extension": ".py",
   "mimetype": "text/x-python",
   "name": "python",
   "nbconvert_exporter": "python",
   "pygments_lexer": "ipython3",
   "version": "3.6.3"
  }
 },
 "nbformat": 4,
 "nbformat_minor": 2
}
